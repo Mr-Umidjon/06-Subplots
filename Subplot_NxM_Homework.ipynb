{
 "nbformat": 4,
 "nbformat_minor": 0,
 "metadata": {
  "colab": {
   "name": "Subplot NxM. Homework.ipynb",
   "provenance": [],
   "collapsed_sections": []
  },
  "kernelspec": {
   "name": "python3",
   "display_name": "Python 3"
  },
  "language_info": {
   "name": "python"
  }
 },
 "cells": [
  {
   "cell_type": "code",
   "execution_count": 2,
   "metadata": {
    "id": "WQPiXV8VYTq1"
   },
   "outputs": [],
   "source": [
    "import matplotlib.pyplot as plt"
   ]
  },
  {
   "cell_type": "code",
   "source": [
    "plt.rcParams['xtick.bottom'] = plt.rcParams['xtick.labelbottom'] = False\n",
    "plt.rcParams['xtick.top'] = plt.rcParams['xtick.labeltop'] = False\n",
    "plt.rcParams['ytick.left'] = plt.rcParams['ytick.labelleft'] = False"
   ],
   "metadata": {
    "id": "EQll71PjguLB"
   },
   "execution_count": 4,
   "outputs": []
  },
  {
   "cell_type": "code",
   "source": [
    "def subplot_2x3(fig):\n",
    "    \"\"\"\n",
    "    Draw axes two rows and three columns. 2x3\n",
    "    Args:\n",
    "      fig: figure\n",
    "    Returns:\n",
    "      axis: The Axes of the subplot.\n",
    "    \"\"\"\n",
    "    k = 1\n",
    "    axs = fig.subplots(2, 3)\n",
    "    for i in range(2):\n",
    "        for j in range(3):\n",
    "            axs[i, j].scatter(2, 2, color='white')\n",
    "            axs[i, j].set_title(f'axis - {k}', color='blue')\n",
    "            axs[i, j].text(2, 2, f\"{k}\", color='red', size=20)\n",
    "            k += 1\n",
    "    return 0"
   ],
   "metadata": {
    "id": "9b-2EIfNY4ba"
   },
   "execution_count": 82,
   "outputs": []
  },
  {
   "cell_type": "code",
   "source": [
    "fig = plt.figure(figsize=(6, 4))\n",
    "ax2x3 = subplot_2x3(fig)"
   ],
   "metadata": {
    "colab": {
     "base_uri": "https://localhost:8080/",
     "height": 262
    },
    "id": "ytVZHFc0nHU0",
    "outputId": "82335939-dbd0-4e4b-87c4-94795286f3e9"
   },
   "execution_count": 83,
   "outputs": [
    {
     "data": {
      "text/plain": "<Figure size 432x288 with 6 Axes>",
      "image/png": "[encoded data removed]"
     },
     "metadata": {},
     "output_type": "display_data"
    }
   ]
  },
  {
   "cell_type": "code",
   "source": [
    "def subplot_4x2(fig):\n",
    "    \"\"\"\n",
    "    Draw axes four rows and two columns. 4x2\n",
    "    Args:\n",
    "      fig: figure\n",
    "    Returns:\n",
    "      axis: The Axes of the subplot.\n",
    "    \"\"\"\n",
    "    k = 1\n",
    "    axs = fig.subplots(4, 2)\n",
    "    for i in range(4):\n",
    "        for j in range(2):\n",
    "            axs[i, j].scatter(2, 2, color='white')\n",
    "            axs[i, j].set_title(f\"axs - {k}\", color='blue')\n",
    "            axs[i, j].text(2, 2, f\"{k}\", color='red', size=20)\n",
    "            k += 1\n",
    "    return 0"
   ],
   "metadata": {
    "id": "8gXDhvcCm8Q1"
   },
   "execution_count": 114,
   "outputs": []
  },
  {
   "cell_type": "code",
   "source": [
    "fig = plt.figure(figsize=(4, 8))\n",
    "ax4x2 = subplot_4x2(fig)"
   ],
   "metadata": {
    "colab": {
     "base_uri": "https://localhost:8080/",
     "height": 480
    },
    "id": "eUemr9YYnCps",
    "outputId": "a47af039-ab62-47f2-f37a-c375675c9f62"
   },
   "execution_count": 115,
   "outputs": [
    {
     "data": {
      "text/plain": "<Figure size 288x576 with 8 Axes>",
      "image/png": "[encoded data removed]"
     },
     "metadata": {},
     "output_type": "display_data"
    }
   ]
  },
  {
   "cell_type": "code",
   "source": [
    "def subplot_3x5(fig):\n",
    "    \"\"\"\n",
    "    Draw axes three rows and five columns. 3x5\n",
    "    Args:\n",
    "      fig: figure\n",
    "    Returns:\n",
    "      axis: The Axes of the subplot.\n",
    "    \"\"\"\n",
    "    k = 1\n",
    "    axs = fig.subplots(3, 5)\n",
    "    for i in range(3):\n",
    "        for j in range(5):\n",
    "            axs[i, j].scatter(2, 2, color='white')\n",
    "            axs[i, j].set_title(f\"axis - {k}\", color='blue')\n",
    "            axs[i, j].text(2, 2, f\"{k}\", color='red', size=20)\n",
    "            k += 1\n",
    "    return 0"
   ],
   "metadata": {
    "id": "tk-JcGfCo6I9"
   },
   "execution_count": 116,
   "outputs": []
  },
  {
   "cell_type": "code",
   "execution_count": null,
   "outputs": [],
   "source": [
    "fig = plt.figure(figsize=(10, 6))\n",
    "ax3x5 = subplot_3x5(fig)"
   ],
   "metadata": {
    "collapsed": false,
    "pycharm": {
     "name": "#%%\n"
    }
   }
  },
  {
   "cell_type": "code",
   "execution_count": null,
   "outputs": [],
   "source": [
    "def subplot_5x5(fig):\n",
    "    \"\"\"\n",
    "    Draw axes five rows and five columns. 5x5\n",
    "    Args:\n",
    "      fig: figure\n",
    "    Returns:\n",
    "      axis: The Axes of the subplot.\n",
    "    \"\"\"\n",
    "    k = 1\n",
    "    axs = fig.subplots(5, 5)\n",
    "    for i in range(5):\n",
    "        for j in range(5):\n",
    "            axs[i, j].scatter(2, 2, color='white')\n",
    "            axs[i, j].set_title(f\"axis - {k}\", color='blue')\n",
    "            axs[i, j].text(2, 2, f\"{k}\", color='red', size=20)\n",
    "            k += 1\n",
    "    return 0"
   ],
   "metadata": {
    "collapsed": false,
    "pycharm": {
     "name": "#%%\n"
    }
   }
  },
  {
   "cell_type": "code",
   "execution_count": null,
   "outputs": [],
   "source": [
    "fig = plt.figure(figsize=(10, 10))\n",
    "ax5x5 = subplot_5x5(fig)"
   ],
   "metadata": {
    "collapsed": false,
    "pycharm": {
     "name": "#%%\n"
    }
   }
  },
  {
   "cell_type": "code",
   "execution_count": null,
   "outputs": [],
   "source": [
    "def subplot_3x1(fig):\n",
    "    \"\"\"\n",
    "    Draw axes three rows and one columns. 3x1\n",
    "    Args:\n",
    "      fig: figure\n",
    "    Returns:\n",
    "      axis: The Axes of the subplot.\n",
    "    \"\"\"\n",
    "    axs = fig.subplots(3, 1)\n",
    "    for i, ax in enumerate(axs):\n",
    "        ax.scatter(2, 2, color='white')\n",
    "        ax.set_title(f\"axis - {i + 1}\", color='blue')\n",
    "        ax.text(2, 2, f\"{i + 1}\", color='red', size=20)\n",
    "    return 0"
   ],
   "metadata": {
    "collapsed": false,
    "pycharm": {
     "name": "#%%\n"
    }
   }
  },
  {
   "cell_type": "code",
   "execution_count": null,
   "outputs": [],
   "source": [
    "fig = plt.figure(figsize=(2, 6))\n",
    "ax3x1 = subplot_3x1(fig)"
   ],
   "metadata": {
    "collapsed": false,
    "pycharm": {
     "name": "#%%\n"
    }
   }
  },
  {
   "cell_type": "code",
   "execution_count": null,
   "outputs": [],
   "source": [
    "def subplot_1x3(fig):\n",
    "    \"\"\"\n",
    "    Draw axes one rows and three columns. 1x3\n",
    "    Args:\n",
    "      fig: figure\n",
    "    Returns:\n",
    "      axis: The Axes of the subplot.\n",
    "    \"\"\"\n",
    "    axs = fig.subplots(1, 3)\n",
    "    for i, ax in enumerate(axs):\n",
    "        ax.scatter(2, 2, color='white')\n",
    "        ax.set_title(f\"axis - {i + 1}\", color='blue')\n",
    "        ax.text(2, 2, f\"{i + 1}\", color='red', size=20)\n",
    "    return 0"
   ],
   "metadata": {
    "collapsed": false,
    "pycharm": {
     "name": "#%%\n"
    }
   }
  },
  {
   "cell_type": "code",
   "source": [
    "fig = plt.figure(figsize=(6, 2))\n",
    "ax1x3 = subplot_1x3(fig)"
   ],
   "metadata": {
    "colab": {
     "base_uri": "https://localhost:8080/",
     "height": 154
    },
    "id": "WKaPkZaosPX9",
    "outputId": "3242f24e-3c02-4945-bf94-f7afa532fdb5"
   },
   "execution_count": 120,
   "outputs": [
    {
     "data": {
      "text/plain": "<Figure size 432x144 with 3 Axes>",
      "image/png": "[encoded data removed]"
     },
     "metadata": {},
     "output_type": "display_data"
    }
   ]
  },
  {
   "cell_type": "code",
   "source": [
    "!git add \"Subplot_NxM_Homework.ipynb\""
   ],
   "metadata": {
    "id": "Ysb3EX8MsUv4"
   },
   "execution_count": null,
   "outputs": []
  }
 ]
}